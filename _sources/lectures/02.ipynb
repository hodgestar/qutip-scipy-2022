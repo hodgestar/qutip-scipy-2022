{
 "cells": [
  {
   "cell_type": "code",
   "execution_count": 1,
   "id": "1e2c78b2",
   "metadata": {
    "tags": [
     "margin"
    ]
   },
   "outputs": [],
   "source": [
    "%matplotlib inline\n",
    "from matplotlib import pyplot as plt\n",
    "from IPython.display import YouTubeVideo"
   ]
  },
  {
   "cell_type": "code",
   "execution_count": 2,
   "id": "63550acc",
   "metadata": {
    "tags": [
     "margin"
    ]
   },
   "outputs": [],
   "source": [
    "import qutip\n",
    "import numpy as np\n",
    "import naq"
   ]
  },
  {
   "cell_type": "markdown",
   "id": "1c37f25b",
   "metadata": {},
   "source": [
    "# 02: A Single Atom\n",
    "\n",
    "## What is a qubit?\n",
    "\n",
    "We've seen how neutral atoms can be held in place and moved around, and I've\n",
    "mentioned that each neutral atom will provide one qubit, but we haven't yet\n",
    "spoken about what a qubit is, or how one can be implemented, or how to perform\n",
    "operations on them.\n",
    "\n",
    "An ordinary non-quantum *bit* has two possible states, usually labelled\n",
    "0 and 1."
   ]
  },
  {
   "cell_type": "code",
   "execution_count": 3,
   "id": "15451932",
   "metadata": {},
   "outputs": [],
   "source": [
    "# The two states of a classical bit, just two numbers:\n",
    "c0 = 0\n",
    "c1 = 1"
   ]
  },
  {
   "cell_type": "markdown",
   "id": "9869ee95",
   "metadata": {},
   "source": [
    "A quantum *bit* or *qubit* has two *basis* states. These *basis states* can\n",
    "be used to describe all of the other states of the qubit. We will see how\n",
    "a bit later."
   ]
  },
  {
   "cell_type": "code",
   "execution_count": 4,
   "id": "d231da96",
   "metadata": {},
   "outputs": [],
   "source": [
    "# The two states of a quantum bit:\n",
    "b0 = qutip.basis(2, 0)\n",
    "b1 = qutip.basis(2, 1)"
   ]
  },
  {
   "cell_type": "markdown",
   "id": "273d3088",
   "metadata": {},
   "source": [
    "An atom of course has many more than two states. Our immediate task will be\n",
    "to find two suitable states of the atom to use as our basis states.\n",
    "\n",
    "Once we have those, we'll see how to construct a qubit using them and to\n",
    "perform operations on them. Finally, we'll look at how to perform operations\n",
    "on two qubits simultaneously, and we'll know how to build a rudimentary\n",
    "quantum computer.\n",
    "\n",
    "## Caesium\n",
    "\n",
    "I mentioned earlier that neutral atom devices usually use one of the alkali\n",
    "metals as their atoms. Now we will see why. We'll look at Caesium so that\n",
    "we have a concrete example to work, but the situation for Rubidium is very\n",
    "similar.\n",
    "\n",
    "Let's take a look at the atomic data for Caesium:\n",
    "\n",
    "| Caesium        |              |\n",
    "| :------------- | :----------- |\n",
    "| **Atomic #**   | 55           |\n",
    "| **Isotope**\t   | {sup}`133`Cs |\n",
    "| **Mass**\t \t   | 132.90       |\n",
    "| **Abundance**  | 100%         |\n",
    "\n",
    "And the arrangement of its electrons:\n",
    "\n",
    "- **Cs** (neutral)\n",
    "  - **Ground State**: 1s{sup}`2` 2s{sup}`2` 2p{sup}`6` 3s{sup}`2` 3p{sup}`6`\n",
    "    3d{sup}`10` 4s{sup}`2` 4p{sup}`6` 4d{sup}`10` 5s{sup}`2` 5p{sup}`6`\n",
    "    **6s{sup}`1`**\n",
    "  - **Ionization energy**: 31406.46769 cm{sup}`-1` (3.893905 eV)\n",
    "\n",
    "From https://physics.nist.gov/PhysRefData/Handbook/Tables/cesiumtable1.htm\n",
    "\n",
    "The *most* important feature of the alkali metals for our use case is that\n",
    "the outer most electron (the 6s{sup}`1`) is all by itself. It is the state\n",
    "of this outer electron that we will manipulate. The rest of the atom -- the\n",
    "nucleus and the other 54 electrons -- we will ideally leave untouched, other\n",
    "than to keep it in the right place.\n",
    "\n",
    "When performing operations on a single qubit, we will keep the electron\n",
    "relatively close to its ground state -- deep in the potential well created\n",
    "by the positively charged nucleus, where it doesn't interact with the\n",
    "other nearby atoms."
   ]
  },
  {
   "cell_type": "code",
   "execution_count": 5,
   "id": "fc7be6f3",
   "metadata": {
    "tags": [
     "remove-input"
    ]
   },
   "outputs": [
    {
     "data": {
      "image/png": "[encoded data removed]",
      "text/plain": [
       "<Figure size 576x576 with 1 Axes>"
      ]
     },
     "metadata": {
      "filenames": {
       "image/png": "/home/simon/repos/elf/hodgestar/talks/qutip-scipy-2022/naqbok/_build/jupyter_execute/lectures/02_7_0.png"
      }
     },
     "output_type": "display_data"
    }
   ],
   "source": [
    "ax = naq.ax(\n",
    "    1, 1,\n",
    "    xlim=(-10., 10.),\n",
    "    ylim=(-1.1, 0.1),\n",
    "    xticks=[], yticks=[],\n",
    "    title=\"Single qubit states (deep in the potential well)\",\n",
    "    ylabel=\"Energy\",\n",
    "    xlabel=\"Position\",\n",
    ")\n",
    "\n",
    "def potential_well(x):\n",
    "    return - (1 / (np.abs(x ** 2) + 1))\n",
    "\n",
    "def plot_potential_well(x, ax):\n",
    "    potential = potential_well(x)\n",
    "    ax.plot(x, potential, color=\"b\", linestyle=\"--\", alpha=0.5)\n",
    "\n",
    "naq.plot_energy_levels(ax, [\n",
    "    (\"|a>\", -0.8),\n",
    "    (\"|b>\", -0.9),\n",
    "], xmid=0., width=4)\n",
    "\n",
    "x = np.linspace(-10, 10, 100)\n",
    "plot_potential_well(x, ax=ax)"
   ]
  },
  {
   "cell_type": "markdown",
   "id": "15e7ca49",
   "metadata": {},
   "source": [
    "When performing operations on two neighbouring qubits, we will push the\n",
    "electron further from its ground state, almost all the way out of the\n",
    "potential well generated by the nucleus, so that it can interact with the\n",
    "outer electrons of the atoms close by."
   ]
  },
  {
   "cell_type": "code",
   "execution_count": 6,
   "id": "30c1371f",
   "metadata": {
    "tags": [
     "remove-input"
    ]
   },
   "outputs": [
    {
     "data": {
      "image/png": "[encoded data removed]",
      "text/plain": [
       "<Figure size 576x576 with 1 Axes>"
      ]
     },
     "metadata": {
      "filenames": {
       "image/png": "/home/simon/repos/elf/hodgestar/talks/qutip-scipy-2022/naqbok/_build/jupyter_execute/lectures/02_9_0.png"
      }
     },
     "output_type": "display_data"
    }
   ],
   "source": [
    "ax = naq.ax(\n",
    "    1, 1,\n",
    "    xlim=(-10., 10.),\n",
    "    ylim=(-1.1, 0.1),\n",
    "    xticks=[], yticks=[],\n",
    "    title=\"Interacting state (almost out of the potential well)\",\n",
    "    ylabel=\"Energy\",\n",
    "    xlabel=\"Position\",\n",
    ")\n",
    "\n",
    "def potential_well(x):\n",
    "    return - (1 / (np.abs(x ** 2) + 1))\n",
    "\n",
    "def plot_potential_well(x, ax):\n",
    "    potential = potential_well(x)\n",
    "    ax.plot(x, potential, color=\"b\", linestyle=\"--\", alpha=0.5)\n",
    "\n",
    "naq.plot_energy_levels(ax, [\n",
    "    (\"\", -0.08),\n",
    "    (\"|r>\", -0.09),\n",
    "    (\"\", -0.10),\n",
    "], xmid=0., width=8)\n",
    "\n",
    "x = np.linspace(-10, 10, 100)\n",
    "plot_potential_well(x, ax=ax)"
   ]
  },
  {
   "cell_type": "markdown",
   "id": "a8d68cde",
   "metadata": {},
   "source": [
    "```{note}\n",
    "For these two qubit operations, the ability to place the atoms almost anywhere\n",
    "provides a unique advantage. It allows us to reconfigure which atoms interact\n",
    "directly, allowing us to \"rewire\" our quantum computer on every run of a\n",
    "program!\n",
    "```\n",
    "Two other useful features of Caesium are:\n",
    "\n",
    "- It occurs naturally as only a single isotope, so the atoms are essentially\n",
    "  identical.\n",
    "\n",
    "- Its ionization energy (3.89 eV) is the energy of a single photon of light\n",
    "  with wavelength ~320 nm (slightly ultraviolet). The energy changes we will\n",
    "  require are all fractions of this, and can thus be supplied by photons\n",
    "  from laser light in the visible spectrum (which is a relatively convenient\n",
    "  part of the spectrum to work with).\n",
    "\n",
    "## Outer electron\n",
    "\n",
    "We're going to select two states of the outer electron of Caesium atoms as\n",
    "the basis states for our qubit, so let us have a look at what those states\n",
    "are.\n",
    "\n",
    "The states the electron can be are called the atomic orbitals. Each state\n",
    "has a very precisely defined energy. We will use laser light with a very\n",
    "narrow frequency to very precisely provide the energy for the electron to\n",
    "transition between selected states.\n",
    "\n",
    "The table below lists a few of the states. They are labelled by the orbital\n",
    "the electron occupies in that state (e.g. 6s, 6p, 7s) and by the orbital\n",
    "angular momentum, J. The details will not be too important to us now --\n",
    "focus on the energies of the states.\n",
    "\n",
    "| Configuration   |\tJ\t        | Level(cm{sup}`-1`) |\n",
    "| :-------------- | :-------- | :----------------- |\n",
    "| 6s              | 1/2       | 0.0000             |\n",
    "| 6p              | 1/2       | 11178.2686         |\n",
    "|                 | 3/2       | 11732.3079         |\n",
    "| 7s              | 1/2       | 18535.529          |\n",
    "| 7p              | 1/2       | 21765.35           |\n",
    "|                 | 3/2       | 21946.396          |\n",
    "| 5d              | 3/2       | 14499.2584         |\n",
    "|                 | 5/2       | 14596.8423         |\n",
    "| 6d              | 3/2       | 22588.8210         |\n",
    "|                 | 5/2       | 22631.6863         |\n",
    "| ...             |           |                    |\n",
    "| **Cs{sup}`+`**  | **Limit** | **31406.46766**    |\n",
    "\n",
    "From https://physics.nist.gov/PhysRefData/Handbook/Tables/cesiumtable5.htm.\n",
    "\n",
    "It's a bit difficult to make sense of things from the table, so let's plot\n",
    "the energy levels:"
   ]
  },
  {
   "cell_type": "code",
   "execution_count": 7,
   "id": "96db9b35",
   "metadata": {
    "tags": [
     "remove-input"
    ]
   },
   "outputs": [
    {
     "data": {
      "image/png": "[encoded data removed]",
      "text/plain": [
       "<Figure size 576x864 with 1 Axes>"
      ]
     },
     "metadata": {
      "filenames": {
       "image/png": "/home/simon/repos/elf/hodgestar/talks/qutip-scipy-2022/naqbok/_build/jupyter_execute/lectures/02_11_0.png"
      }
     },
     "output_type": "display_data"
    }
   ],
   "source": [
    "ax = naq.ax(\n",
    "    1, 1,\n",
    "    figsize=(8, 12),\n",
    "    xlim=(-0.25, 3.25),\n",
    "    ylim=(-1000.0, 33000.0),\n",
    "    xticks=[], yticks=[],\n",
    "    title=\"Caesium Energy Levels\",\n",
    "    ylabel=\"Energy (cm^-1)\",\n",
    "    xlabel=\"Caesium\",\n",
    ")\n",
    "\n",
    "naq.plot_energy_levels(ax, [\n",
    "    (\"6s\", 0.0),\n",
    "    (\"7s\", 18535.529),\n",
    "    (\"Free\", 31406.46766),\n",
    "], xmid=0.2)\n",
    "\n",
    "naq.plot_energy_levels(ax, [\n",
    "    (\"6p\", 11178.2686),\n",
    "    (\"\", 11732.3079),\n",
    "    (\"7p\", 21765.35),\n",
    "    (\"\", 21946.396),\n",
    "    (\"Free\", 31406.46766),\n",
    "], xmid=1.2)\n",
    "\n",
    "naq.plot_energy_levels(ax, [\n",
    "    (\"5d\", 14499.2584),\n",
    "    (\"\", 14596.8423),\n",
    "    (\"6d\", 22588.8210),\n",
    "    (\"\", 22631.6863),\n",
    "    (\"Free\", 31406.46766),\n",
    "], xmid=2.2)"
   ]
  },
  {
   "cell_type": "markdown",
   "id": "6aeb59bf",
   "metadata": {},
   "source": [
    "Looking at the plot, I'm going to select the energy levels 6s and 7s as our\n",
    "basis states. I'm not an expert in controlling electrons with lasers, but\n",
    "they look nicely spaced from each other, and from the other states."
   ]
  },
  {
   "cell_type": "code",
   "execution_count": 8,
   "id": "b3656d4c",
   "metadata": {},
   "outputs": [],
   "source": [
    "# Our two basis states:\n",
    "b0 = qutip.basis(2, 0)  # 6s\n",
    "b1 = qutip.basis(2, 1)  # 7s"
   ]
  },
  {
   "cell_type": "markdown",
   "id": "266ebb43",
   "metadata": {},
   "source": [
    "Note that there are many more energy levels, in fact infinitely more, but\n",
    "these other states are mostly near the \"free\" energy state in which the\n",
    "electron has enough energy to leave the atom. One of these \"not quite free\"\n",
    "states will be used later when we need our qubit to interact with neighbouring\n",
    "qubits.\n",
    "\n",
    "```{note}\n",
    "We will see later, the narrowness and separation of the energy states\n",
    "is also important for our qubit to maintain its state. These states with\n",
    "a fixed energy are called *energy eigenstates* and in the absence of\n",
    "outside interference, they maintain their state over time.\n",
    "```\n",
    "\n",
    "## Neighbouring Atoms\n",
    "\n",
    "I know this chapter is about a single atom, but I'd like to take a quick\n",
    "detour into what happens when two atoms are near each other, because it\n",
    "ties nicely into the energy level structure we've just looked at and as\n",
    "mentioned it will be important later when we want two qubits to interact.\n",
    "\n",
    "I mentioned that we'll use the one of the \"almost\" free energy states for\n",
    "this interaction between atoms. Electrons in these states travel very far\n",
    "from the centre of the atom, with an average distance of:\n",
    "\n",
    "$$\n",
    "  r = n^2 \\cdot \\frac{\\hbar}{k e^2 m}\n",
    "$$\n",
    "\n",
    "where $n$ is the number of the state (the 6s and 7s in our previous plot).\n",
    "\n",
    "As you can see the average distance from the centre grows as $n^2$, so that\n",
    "if the atoms are close enough and $n$ is high enough, two electrons from\n",
    "neighbouring atoms that were both in these high energy states would be\n",
    "close together.\n",
    "\n",
    "But electrons are negatively charged, and pushing two negative charges close\n",
    "together requires a lot of energy. If we call this high energy state\n",
    "$ \\left\\vert r \\right\\rangle $, and a state where two neighbouring electrons\n",
    "are both in this state $ \\left\\vert rr \\right\\rangle $, then the energy of\n",
    "this combined state grows very quickly when distance between the atom\n",
    "decreases:"
   ]
  },
  {
   "cell_type": "code",
   "execution_count": 9,
   "id": "a646397e",
   "metadata": {
    "tags": [
     "remove-input"
    ]
   },
   "outputs": [
    {
     "data": {
      "image/png": "[encoded data removed]",
      "text/plain": [
       "<Figure size 576x576 with 1 Axes>"
      ]
     },
     "metadata": {
      "filenames": {
       "image/png": "/home/simon/repos/elf/hodgestar/talks/qutip-scipy-2022/naqbok/_build/jupyter_execute/lectures/02_15_0.png"
      }
     },
     "output_type": "display_data"
    }
   ],
   "source": [
    "ax = naq.ax(\n",
    "    1, 1,\n",
    "    xlim=(-0.25, 2.25),\n",
    "    ylim=(0.5, 1.25),\n",
    "    xticks=[], yticks=[],\n",
    "    title=\"Rydberg blockade\",\n",
    "    ylabel=\"Energy\",\n",
    "    xlabel=\"r\",\n",
    ")\n",
    "\n",
    "def rydberg_energy(r, C, E):\n",
    "    return E + C / (r**6)\n",
    "\n",
    "def plot_rydberg_energy(r, C, E, ax=None):\n",
    "    energy = rydberg_energy(r, C, E)\n",
    "    ax.plot(r, energy, color=\"b\", linestyle=\"--\", alpha=0.5)\n",
    "\n",
    "naq.plot_energy_levels(ax, [\n",
    "    (\"|rr>\", 1.0),\n",
    "], xmid=0.2)\n",
    "\n",
    "naq.plot_energy_levels(ax, [\n",
    "    (\"|rr>\", 0.6),\n",
    "], xmid=1.2)\n",
    "\n",
    "r = np.linspace(0.1, 1.9, 100)\n",
    "plot_rydberg_energy(r, 1e-4, 0.6, ax=ax)"
   ]
  },
  {
   "cell_type": "markdown",
   "id": "64815350",
   "metadata": {},
   "source": [
    "As you can see there is a separation at which the energy climbs very steeply,\n",
    "in fact as $\\frac{1}{r^6}$, and beyond that, the energy quickly becomes very\n",
    "flat -- i.e. there is almost no interaction.\n",
    "\n",
    "We can use this to prevent the electron from one atom entering its high\n",
    "energy state if the electron of a neighbouring atom is already there.\n",
    "\n",
    "This effect is called the Rydberg blockade, and it's what we'll use to allow\n",
    "neighbouring qubits to interact later on."
   ]
  }
 ],
 "metadata": {
  "jupytext": {
   "cell_metadata_filter": "-all",
   "formats": "md:myst",
   "text_representation": {
    "extension": ".md",
    "format_name": "myst"
   }
  },
  "kernelspec": {
   "display_name": "Python 3",
   "language": "python",
   "name": "python3"
  },
  "language_info": {
   "codemirror_mode": {
    "name": "ipython",
    "version": 3
   },
   "file_extension": ".py",
   "mimetype": "text/x-python",
   "name": "python",
   "nbconvert_exporter": "python",
   "pygments_lexer": "ipython3",
   "version": "3.9.12"
  },
  "source_map": [
   14,
   23,
   30,
   44,
   48,
   54,
   58,
   105,
   133,
   140,
   169,
   224,
   260,
   266,
   270,
   314,
   345
  ]
 },
 "nbformat": 4,
 "nbformat_minor": 5
}