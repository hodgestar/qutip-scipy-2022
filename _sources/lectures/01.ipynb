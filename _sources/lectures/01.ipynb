{
 "cells": [
  {
   "cell_type": "code",
   "execution_count": 1,
   "id": "f3d2982e",
   "metadata": {
    "tags": [
     "margin"
    ]
   },
   "outputs": [],
   "source": [
    "%matplotlib inline\n",
    "from matplotlib import pyplot as plt\n",
    "from IPython.display import YouTubeVideo"
   ]
  },
  {
   "cell_type": "code",
   "execution_count": 2,
   "id": "6660310f",
   "metadata": {
    "tags": [
     "margin"
    ]
   },
   "outputs": [],
   "source": [
    "import qutip\n",
    "import numpy as np\n",
    "import naq"
   ]
  },
  {
   "cell_type": "markdown",
   "id": "ca240d54",
   "metadata": {},
   "source": [
    "# 01: Neutral Atom Devices\n",
    "\n",
    "## It's a trap!\n",
    "\n",
    "```{figure} ./01-media/3d-traps.png\n",
    "---\n",
    "name: 3d-traps\n",
    "---\n",
    "Sculptures made from neutral atoms {cite}`synth3d`.\n",
    "```\n",
    "\n",
    "**What can we learn from these images?**\n",
    "\n",
    "- This is crazy -- there are tens of atoms being held in arbitrary three\n",
    "  dimensional structures.\n",
    "- Something is holding the atoms in place. What is it?\n",
    "- The patterns are quite intricate. How were the atoms placed?\n",
    "- Sculptures are ~100µm on a side.\n",
    "- Atoms are ~1µm apart.\n",
    "- Atoms are ~100pm, so the green blobs are *very* blurry pictures of the atoms.\n",
    "  How were they taken?\n",
    "- Salt crystals have unit cells of ~0.5nm. Water molecules are ~0.3nm apart.\n",
    "  Air molecules are ~3.5nm apart. So these are atoms in vacuum.\n",
    "- A vacuum is empty. How did these atoms enter the vacuum?\n",
    "\n",
    "These atoms must be *neutral*. If they were ions they would accelerate away\n",
    "from each other at a rate of:"
   ]
  },
  {
   "cell_type": "code",
   "execution_count": 3,
   "id": "2bd066d1",
   "metadata": {},
   "outputs": [
    {
     "name": "stdout",
     "output_type": "stream",
     "text": [
      "Ion acceleration: 1.4e+09 m/s^2\n"
     ]
    }
   ],
   "source": [
    "def sculpture_ion_acceleration():\n",
    "    \"\"\" Acceleration of atoms in the sculpture if they were ions. \"\"\"\n",
    "    # Physical constants\n",
    "    e = 1.60217663e-19  # charge of electron (C)\n",
    "    da = 1.66053906660e-27 # dalton mass; M(C_12) / 12 (kg)\n",
    "    eps0 = 8.8541878128e-12  # vacuum permittivity (C^2 / N m^2)\n",
    "\n",
    "    # Sculpture parameters\n",
    "    r = 1e-6  # separation of atoms (metres)\n",
    "    m = 100 * da  # guess the atoms have ~100 nucleons (kg)\n",
    "    F = (e * e) / (4 * np.pi * eps0 * r ** 2)  # force (N)\n",
    "    return F / m  # acceleration (m / s^2)\n",
    "\n",
    "print(f\"Ion acceleration: {sculpture_ion_acceleration():.2g} m/s^2\")"
   ]
  },
  {
   "cell_type": "markdown",
   "id": "cadd27a0",
   "metadata": {},
   "source": [
    "Which is quite fast.\n",
    "\n",
    "```{note} They wouldn't accelerate for very long!\n",
    "```\n",
    "\n",
    "One thing we can't tell from the video is what kinds of atoms they are, but\n",
    "they're usually Caesium or Rubidium atoms. These are both alkali metals (like\n",
    "Lithium). The alkali metals are chosen because they're a bit easier to control.\n",
    "We'll look very briefly at why that is a bit later on.\n",
    "\n",
    "## Apparatus\n",
    "\n",
    "Let's zoom out a bit ...\n",
    "\n",
    "```{figure} ./01-media/neutral-atom-device-schematic.png\n",
    "---\n",
    "name: device-schematic\n",
    "---\n",
    "Experimental set up for trapping neutral atoms {cite}`qc-with-na`.\n",
    "```\n",
    "\n",
    "- **Red light**: Laser light used to create the atom traps.\n",
    "- **Purple light**: Laser light used to move the atoms into the right traps --\n",
    "  the *optical tweezers*.\n",
    "- It's all [fricking lasers](https://www.youtube.com/watch?v=Bh7bYNAHXxw)!\n",
    "- **SLM**: Spatial Light Modulator. A controllable plate with \"bumps\" that\n",
    "  generates the interference patterns in the red laser light that creates the\n",
    "  traps. More on this in a second.\n",
    "- **AOD**: Acousto-optic laser beam deflector. Moves the optical tweezers\n",
    "  around.\n",
    "- This is the world's tiniest 80s disco!\n",
    "- **Green light**: Fluorescent light emitted by the atoms. Used to produce the\n",
    "  photographs we just looked at.\n",
    "- **Dichroic mirror**: Reflects only the green light towards the camera.\n",
    "- **Camera**: CCD camera, like in your phone.\n",
    "- **Vacuum system**: Vacuum, with two lenses that focus the light onto the\n",
    "  100 µm region that the atoms are trapped in.\n",
    "\n",
    "And a similar view of the apparatus, but showing the spatial light modulator:\n",
    "\n",
    "```{figure} ./01-media/slm.png\n",
    "---\n",
    "name: device-schematic-slm\n",
    "---\n",
    "Experimental set up showing the Spatial Light Modulator (SLM) [Atom by Atom Assembler, Pasqal Quantum Computing](https://youtu.be/jVC-ycr02tQ?t=68).\n",
    "```\n",
    "\n",
    "The spatial light modulator imparts a two-dimensional pattern to the phase\n",
    "of the laser light, which will later generate interference and create the\n",
    "traps.\n",
    "\n",
    "The *phase* is just a *delay*. As we will see later, in quantum mechanics\n",
    "the *phase* and *time* are very closely related. The SLM can be thought of as a\n",
    "\"bumpy\" surface that lengthens or shortens the path taken by the laser light\n",
    "depending on where it strikes the surface.\n",
    "\n",
    "We'll shortly watch a video showing the whole process. It includes some\n",
    "examples of how patterns on the SLM surface translate into different patterns\n",
    "of atomic traps.\n",
    "\n",
    "## Herding the atoms"
   ]
  },
  {
   "cell_type": "code",
   "execution_count": 4,
   "id": "c1642179",
   "metadata": {
    "tags": [
     "remove-input"
    ]
   },
   "outputs": [
    {
     "data": {
      "image/jpeg": "[encoded data removed]",
      "text/html": [
       "\n",
       "<iframe\n",
       "    width=\"600\"\n",
       "    height=\"450\"\n",
       "    src=\"https://www.youtube.com/embed/jVC-ycr02tQ\"\n",
       "    frameborder=\"0\"\n",
       "    allowfullscreen\n",
       "\n",
       "></iframe>\n"
      ],
      "text/plain": [
       "<IPython.lib.display.YouTubeVideo at 0x7fd6aa15dee0>"
      ]
     },
     "execution_count": 4,
     "metadata": {
      "filenames": {
       "image/jpeg": "/home/simon/repos/elf/hodgestar/talks/qutip-scipy-2022/naqbok/_build/jupyter_execute/lectures/01_5_0.jpg"
      }
     },
     "output_type": "execute_result"
    }
   ],
   "source": [
    "YouTubeVideo(\"jVC-ycr02tQ\", width=600, height=450)"
   ]
  },
  {
   "cell_type": "markdown",
   "id": "441c968a",
   "metadata": {},
   "source": [
    "The video is [Atom by Atom Assembler](https://youtu.be/jVC-ycr02tQ?t=68)\n",
    "from [Pasqal.io](https://pasqal.io).\n",
    "\n",
    "Things to take away from the video:\n",
    "\n",
    "- The traps are small enough that if two atoms inhabit a trap, they quickly\n",
    "  collide and both bounce out of the trap.\n",
    "- This means one can't try to completely fill the traps.\n",
    "- Instead one creates approximately twice as many traps as needed, and then\n",
    "  only fills the traps that are part of the pattern one wants to create.\n",
    "- Moving an atom from one trap to another takes ~0.5 ms.\n",
    "- Excess atoms are thrown out by the movable tweezers.\n",
    "\n",
    "To make 3D sculptures, one has to repeat this process multiple times, once for\n",
    "each layer of the sculpture.\n",
    "\n",
    "## Trapping a single atom\n",
    "\n",
    "Trapping a single atom in optical tweezers is itself a fairly complex process\n",
    "(it was worth one half of the 2018 Nobel Prize).\n",
    "\n",
    "I wanted to find a short but accurate visual representation, but I couldn't,\n",
    "so instead I'll just highlight a few things:\n",
    "\n",
    "- The tweezers have two different jobs -- to trap an atom and to\n",
    "  cool it down.\n",
    "- The trapping happens near focal points of the light.\n",
    "- The cooling happens because the light doppler shifts slightly if the\n",
    "  atom is moving.\n",
    "- Trapping (fixing the position of the atom) and cooling the atom\n",
    "  (fixing its momentum) are competing goals because of Hiesenberg's\n",
    "  uncertainty principle.\n",
    "\n",
    "## DiVicenzo criteria\n",
    "\n",
    "We're going to end this tour of the experimental apparatus by talking\n",
    "broadly about what is required to build a quantum computer. Some of\n",
    "these requirements we'll be able to talk about straight away. The\n",
    "rest will provide a bridge to what we'll look at next -- the quantum\n",
    "mechanics of the atoms.\n",
    "\n",
    "In 2000, DiVincenzo, a physicist at IBM wrote down\n",
    "[a set of five criteria](https://en.wikipedia.org/wiki/DiVincenzo%27s_criteria)\n",
    "for building a quantum computer {cite}`divincenzo `:\n",
    "\n",
    "- ✅ **A scalable physical system with well-characterized qubits**:\n",
    "  Neutral atoms do pretty well here. The qubits are provided\n",
    "  by the atoms themselves. They're isolated from their surroundings, except\n",
    "  for the laser light they're trapped in. They're neutral. There are lots of\n",
    "  them (a couple of hundred is already achievable).\n",
    "\n",
    "- ☐ **The ability to initialize the state of the qubits**:\n",
    "  Neutral atoms are initialized using *optical pumping* -- a control laser\n",
    "  is used to push all atoms into a particular quantum state. This works well,\n",
    "  but it's experimentally still difficult to initialize *individual* atoms\n",
    "  rather than all atoms at once. We're not going to cover this procedure\n",
    "  in any detail in our simulations, we'll just assume it works.\n",
    "\n",
    "- ✅ **Long decoherence times**\n",
    "  Coherence times of many seconds are already achievable.\n",
    "\n",
    "- ⭐ **A \"universal\" set of quantum gates**\n",
    "  Implementing gates for neutral atoms is the focus of the majority of\n",
    "  the rest of the tutorial. In short, gates that operate on a single\n",
    "  atom work extremely well. Gates that operate on two atoms work,\n",
    "  but need to work a lot better and are an area of active research.\n",
    "\n",
    "- ☐ **A qubit-specific measurement capability**\n",
    "  Neutral atoms are measured by causing them to fluoresce depending on what\n",
    "  state they're in and by using the camera to capture the fluorescent light.\n",
    "  There are some downsides to this procedure, notably that it measures all\n",
    "  of the atoms at once and is destructive (i.e. the atoms are left in an\n",
    "  unusable energy state). We're not going to examine this procedure in\n",
    "  detail either, we'll just assume we can perform a destructive measurement\n",
    "  at the end of a running a quantum circuit.\n",
    "\n",
    "DiVincenzo also wrote down two criteria for building a quantum network:\n",
    "\n",
    "- **The ability to interconvert stationary and flying qubits**\n",
    "- **The ability to faithfully transmit flying qubits between specified**\n",
    "  **locations**\n",
    "\n",
    "We're not going to look at these in detail either. The *stationary* qubits\n",
    "would be the neutral atoms. The *flying* qubits are typically photons\n",
    "because they travel well through fibre optics. Having a neutral atom\n",
    "transfer its quantum state to a photon seems possible, but I'm not aware of\n",
    "any experiments that have been done."
   ]
  }
 ],
 "metadata": {
  "jupytext": {
   "cell_metadata_filter": "-all",
   "formats": "md:myst",
   "text_representation": {
    "extension": ".md",
    "format_name": "myst"
   }
  },
  "kernelspec": {
   "display_name": "Python 3",
   "language": "python",
   "name": "python3"
  },
  "language_info": {
   "codemirror_mode": {
    "name": "ipython",
    "version": 3
   },
   "file_extension": ".py",
   "mimetype": "text/x-python",
   "name": "python",
   "nbconvert_exporter": "python",
   "pygments_lexer": "ipython3",
   "version": "3.9.12"
  },
  "source_map": [
   14,
   23,
   30,
   60,
   76,
   140,
   145
  ]
 },
 "nbformat": 4,
 "nbformat_minor": 5
}