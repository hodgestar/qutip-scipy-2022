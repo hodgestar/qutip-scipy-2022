{
 "cells": [
  {
   "cell_type": "code",
   "execution_count": 1,
   "id": "b68b1a9a",
   "metadata": {
    "tags": [
     "margin"
    ]
   },
   "outputs": [],
   "source": [
    "%matplotlib inline\n",
    "from matplotlib import pyplot as plt\n",
    "from IPython.display import YouTubeVideo"
   ]
  },
  {
   "cell_type": "code",
   "execution_count": 2,
   "id": "796378fd",
   "metadata": {
    "tags": [
     "margin"
    ]
   },
   "outputs": [],
   "source": [
    "import qutip\n",
    "import numpy as np\n",
    "import naq"
   ]
  },
  {
   "cell_type": "markdown",
   "id": "704378c1",
   "metadata": {},
   "source": [
    "# 00: QuTiP and Open Quantum Systems\n",
    "\n",
    "## Tutorial overview\n",
    "\n",
    "We're going to detour into some real physics shortly, but I'd like to set the\n",
    "stage for the tutorial as a whole by talking about what open quantum systems\n",
    "are, what QuTiP is, and what we hope to achieve during the tutorial.\n",
    "\n",
    "## Quantum systems\n",
    "\n",
    "Quantum mechanics began as the study of the structure of atoms. The components\n",
    "they're made of -- protons, neutrons, electrons, photons, the electric field --\n",
    "how they interact, and how these things determine the properties of atoms.\n",
    "\n",
    "It's initial successes were in describing the outer structure -- the electrons\n",
    "and photons, the atomic spectra (i.e. the frequencies of light were\n",
    "omitted or absorbed by atoms), the chemical interactions. Following these\n",
    "successes the theory was expanded to include the structure of the nucleus,\n",
    "the quarks and gluons that make up the protons and neutrons -- i.e. nuclear\n",
    "physics.\n",
    "\n",
    "The atom is very small -- only ``0.1 nm`` -- and the nucleus is much smaller\n",
    "still -- ``1 fm`` (``10^-15 m``). The models that successfully describe this\n",
    "microscopic world are different to the classical mechanics of our\n",
    "daily lives. But not as different as you might have been lead to\n",
    "believe. At least not to a physicist of the late nineteenth century.\n",
    "\n",
    "The classical theories of Lagrangian and Hamiltonian Mechanics, waves and\n",
    "fields, required surprisingly small modifications for use in quantum mechanics.\n",
    "The ramifications of these extensions turned out to be profound, but the\n",
    "presence of these classical theories is still clearly visible within quantum\n",
    "mechanics today.\n",
    "\n",
    "Indeed, many of the behaviours we consider quantum such as the uncertainty\n",
    "principle, wave-particle duality, and observables as operators, have their\n",
    "analogues in classical field theory.\n",
    "\n",
    "## Open quantum systems\n",
    "\n",
    "Initially quantum systems were primarily modelled as isolated systems. That\n",
    "is, as a group of atomic particles in the lab evolving separately from their\n",
    "surroundings.\n",
    "\n",
    "As theoretical and experimental advances were made, the complexity and\n",
    "physical size of the systems being modelled grew. Small molecules and then\n",
    "larger molecules. Light trapped within reflective cavities. High energy physics\n",
    "with many particles interacting at once.\n",
    "\n",
    "Eventually the concept of interacting quantum systems emerged, or what we\n",
    "now call open quantum systems.\n",
    "\n",
    "Most commonly an open quantum system consists of a small quantum system\n",
    "whose behaviour we are primarily interested in, and a surrounding environment\n",
    "that it interacts with.\n",
    "\n",
    "The interaction and the environment are modelled semi-quantum mechanically.\n",
    "That is, they are modelled quantum mechanically, but there is some\n",
    "approximation involved in the interaction or the model of the environment.\n",
    "For example the interaction might be purely a loss of information from the\n",
    "system to the bath (dissipative), or the bath might retain no history of\n",
    "its interactions (Markovian).\n",
    "\n",
    "There is now quite a large zoo of different kinds of approximations.\n",
    "\n",
    "These theoretical and experimental advances have opened the door to the\n",
    "building of a large class of new \"synthetic\" quantum devices and materials,\n",
    "with properties and features that can be engineered to suit our needs.\n",
    "\n",
    "An extremely incomplete list: high-temperature superconductors, quantum dots,\n",
    "gravitational sensors, accelerometers, SQUIDs (ludicrously sensitive\n",
    "measurements of magnetic flux), quantum dots, spin qubits, superconducting\n",
    "qubits, Josephson junctions, ion-traps, photonic devices, neutral atoms,\n",
    "RSFQ (classical computing with superconductors).\n",
    "\n",
    "\n",
    "## QuTiP\n",
    "\n",
    "QuTiP is a Python library for simulating open quantum systems.\n",
    "\n",
    "It's somewhat unique in that it provides quite a broad toolkit for the\n",
    "investigation of open quantum systems using different techniques, and aims to\n",
    "support a very broad set of users from those new to quantum mechanics, all the\n",
    "way to active researchers in the field.\n",
    "\n",
    "We get both novices and researchers reporting bugs and asking questions on the\n",
    "mailing list, and its regularly used in both student projects and papers, so\n",
    "we appear to be succeeding fairly well in serving our broad audience.\n",
    "\n",
    "There are a growing number of more specialist libraries that depend on QuTiP.\n",
    "\n",
    "To support open quantum systems, QuTiP needs solid support for isolated\n",
    "quantum systems, and indeed that support forms part of the basis of QuTiP.\n",
    "\n",
    "Another unique feature of QuTiP is that it provides quite broad support for\n",
    "time-dependent quantum systems.\n",
    "\n",
    "The functionality of QuTiP can be divided into the following categories:\n",
    "\n",
    "- describing quantum states and operators\n",
    "- manipulating the states and operators\n",
    "- a selection of solvers for simulating the evolution of open quantum systems\n",
    "- tools for quantum information processing, including describing circuits and\n",
    "  simulating running circuits on open quantum devices\n",
    "- a small toolkit for optimizing the control of quantum devices\n",
    "\n",
    "We'll only be looking at the first three in this tutorial.\n",
    "\n",
    "\n",
    "## Goals\n",
    "\n",
    "- 00: This bit!\n",
    "- 01: Understand the machinery that makes up a neutral atom device\n",
    "- 02: Understand the relevant atomic physics\n",
    "- 03: Build up a quantum description of the atomic physics in QuTiP\n",
    "- 04: Examine the dynamics of the neutral atoms as closed quantum systems\n",
    "- 05: Build a complete set of single qubit gates for our atoms\n",
    "- 06: Examine the dynamics of two interacting neutral atoms\n",
    "- 07: Build a two qubit gate\n",
    "- 08: Declare victory\n",
    "- 09: Let our system interact with the surrounding environment"
   ]
  }
 ],
 "metadata": {
  "jupytext": {
   "cell_metadata_filter": "-all",
   "formats": "md:myst",
   "text_representation": {
    "extension": ".md",
    "format_name": "myst"
   }
  },
  "kernelspec": {
   "display_name": "Python 3",
   "language": "python",
   "name": "python3"
  },
  "language_info": {
   "codemirror_mode": {
    "name": "ipython",
    "version": 3
   },
   "file_extension": ".py",
   "mimetype": "text/x-python",
   "name": "python",
   "nbconvert_exporter": "python",
   "pygments_lexer": "ipython3",
   "version": "3.9.12"
  },
  "source_map": [
   14,
   23,
   30
  ]
 },
 "nbformat": 4,
 "nbformat_minor": 5
}