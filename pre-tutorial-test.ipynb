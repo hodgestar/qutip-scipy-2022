{
 "cells": [
  {
   "cell_type": "markdown",
   "id": "06d22496",
   "metadata": {},
   "source": [
    "# Pre-tutorial Test Notebook\n",
    "\n",
    "This notebook runs some simple tests to ensure the Python environment you have set up for the tutorial is working correctly.\n",
    "\n",
    "Please run it a few days before the tutorial and check that it ran correctly and without errors or warnings.\n",
    "\n",
    "If you are struggling to get it to run correctly, please submit an issue at https://github.com/hodgestar/qutip-scipy-2022/issues/new and I'll attempt to help you debug your environment by offering advice on what to try next.\n",
    "\n",
    "Each section below describes briefly what is being tested and what output is expected.\n",
    "\n",
    "Don't worry if you don't understand what the code is doing -- we'll cover all of it in the tutorial.\n",
    "\n",
    "Good luck!"
   ]
  },
  {
   "cell_type": "markdown",
   "id": "3c01dcf6",
   "metadata": {},
   "source": [
    "## Import matplotlib, numpy and qutip\n",
    "\n",
    "These cells import the software packages we'll use during the tutorial. The cells should run without errors or warnings and not produce any output."
   ]
  },
  {
   "cell_type": "code",
   "execution_count": 1,
   "id": "6c568d59",
   "metadata": {},
   "outputs": [
    {
     "ename": "ModuleNotFoundError",
     "evalue": "No module named 'matplotlib'",
     "output_type": "error",
     "traceback": [
      "\u001b[0;31m---------------------------------------------------------------------------\u001b[0m",
      "\u001b[0;31mModuleNotFoundError\u001b[0m                       Traceback (most recent call last)",
      "Input \u001b[0;32mIn [1]\u001b[0m, in \u001b[0;36m<cell line: 1>\u001b[0;34m()\u001b[0m\n\u001b[0;32m----> 1\u001b[0m \u001b[43mget_ipython\u001b[49m\u001b[43m(\u001b[49m\u001b[43m)\u001b[49m\u001b[38;5;241;43m.\u001b[39;49m\u001b[43mrun_line_magic\u001b[49m\u001b[43m(\u001b[49m\u001b[38;5;124;43m'\u001b[39;49m\u001b[38;5;124;43mmatplotlib\u001b[39;49m\u001b[38;5;124;43m'\u001b[39;49m\u001b[43m,\u001b[49m\u001b[43m \u001b[49m\u001b[38;5;124;43m'\u001b[39;49m\u001b[38;5;124;43minline\u001b[39;49m\u001b[38;5;124;43m'\u001b[39;49m\u001b[43m)\u001b[49m\n\u001b[1;32m      2\u001b[0m \u001b[38;5;28;01mfrom\u001b[39;00m \u001b[38;5;21;01mmatplotlib\u001b[39;00m \u001b[38;5;28;01mimport\u001b[39;00m pyplot \u001b[38;5;28;01mas\u001b[39;00m plt\n",
      "File \u001b[0;32m~/miniconda3/envs/qutip-tutorial-env/lib/python3.10/site-packages/IPython/core/interactiveshell.py:2305\u001b[0m, in \u001b[0;36mInteractiveShell.run_line_magic\u001b[0;34m(self, magic_name, line, _stack_depth)\u001b[0m\n\u001b[1;32m   2303\u001b[0m     kwargs[\u001b[38;5;124m'\u001b[39m\u001b[38;5;124mlocal_ns\u001b[39m\u001b[38;5;124m'\u001b[39m] \u001b[38;5;241m=\u001b[39m \u001b[38;5;28mself\u001b[39m\u001b[38;5;241m.\u001b[39mget_local_scope(stack_depth)\n\u001b[1;32m   2304\u001b[0m \u001b[38;5;28;01mwith\u001b[39;00m \u001b[38;5;28mself\u001b[39m\u001b[38;5;241m.\u001b[39mbuiltin_trap:\n\u001b[0;32m-> 2305\u001b[0m     result \u001b[38;5;241m=\u001b[39m \u001b[43mfn\u001b[49m\u001b[43m(\u001b[49m\u001b[38;5;241;43m*\u001b[39;49m\u001b[43margs\u001b[49m\u001b[43m,\u001b[49m\u001b[43m \u001b[49m\u001b[38;5;241;43m*\u001b[39;49m\u001b[38;5;241;43m*\u001b[39;49m\u001b[43mkwargs\u001b[49m\u001b[43m)\u001b[49m\n\u001b[1;32m   2306\u001b[0m \u001b[38;5;28;01mreturn\u001b[39;00m result\n",
      "File \u001b[0;32m~/miniconda3/envs/qutip-tutorial-env/lib/python3.10/site-packages/IPython/core/magics/pylab.py:99\u001b[0m, in \u001b[0;36mPylabMagics.matplotlib\u001b[0;34m(self, line)\u001b[0m\n\u001b[1;32m     97\u001b[0m     \u001b[38;5;28mprint\u001b[39m(\u001b[38;5;124m\"\u001b[39m\u001b[38;5;124mAvailable matplotlib backends: \u001b[39m\u001b[38;5;132;01m%s\u001b[39;00m\u001b[38;5;124m\"\u001b[39m \u001b[38;5;241m%\u001b[39m backends_list)\n\u001b[1;32m     98\u001b[0m \u001b[38;5;28;01melse\u001b[39;00m:\n\u001b[0;32m---> 99\u001b[0m     gui, backend \u001b[38;5;241m=\u001b[39m \u001b[38;5;28;43mself\u001b[39;49m\u001b[38;5;241;43m.\u001b[39;49m\u001b[43mshell\u001b[49m\u001b[38;5;241;43m.\u001b[39;49m\u001b[43menable_matplotlib\u001b[49m\u001b[43m(\u001b[49m\u001b[43margs\u001b[49m\u001b[38;5;241;43m.\u001b[39;49m\u001b[43mgui\u001b[49m\u001b[38;5;241;43m.\u001b[39;49m\u001b[43mlower\u001b[49m\u001b[43m(\u001b[49m\u001b[43m)\u001b[49m\u001b[43m \u001b[49m\u001b[38;5;28;43;01mif\u001b[39;49;00m\u001b[43m \u001b[49m\u001b[38;5;28;43misinstance\u001b[39;49m\u001b[43m(\u001b[49m\u001b[43margs\u001b[49m\u001b[38;5;241;43m.\u001b[39;49m\u001b[43mgui\u001b[49m\u001b[43m,\u001b[49m\u001b[43m \u001b[49m\u001b[38;5;28;43mstr\u001b[39;49m\u001b[43m)\u001b[49m\u001b[43m \u001b[49m\u001b[38;5;28;43;01melse\u001b[39;49;00m\u001b[43m \u001b[49m\u001b[43margs\u001b[49m\u001b[38;5;241;43m.\u001b[39;49m\u001b[43mgui\u001b[49m\u001b[43m)\u001b[49m\n\u001b[1;32m    100\u001b[0m     \u001b[38;5;28mself\u001b[39m\u001b[38;5;241m.\u001b[39m_show_matplotlib_backend(args\u001b[38;5;241m.\u001b[39mgui, backend)\n",
      "File \u001b[0;32m~/miniconda3/envs/qutip-tutorial-env/lib/python3.10/site-packages/IPython/core/interactiveshell.py:3478\u001b[0m, in \u001b[0;36mInteractiveShell.enable_matplotlib\u001b[0;34m(self, gui)\u001b[0m\n\u001b[1;32m   3457\u001b[0m \u001b[38;5;28;01mdef\u001b[39;00m \u001b[38;5;21menable_matplotlib\u001b[39m(\u001b[38;5;28mself\u001b[39m, gui\u001b[38;5;241m=\u001b[39m\u001b[38;5;28;01mNone\u001b[39;00m):\n\u001b[1;32m   3458\u001b[0m     \u001b[38;5;124;03m\"\"\"Enable interactive matplotlib and inline figure support.\u001b[39;00m\n\u001b[1;32m   3459\u001b[0m \n\u001b[1;32m   3460\u001b[0m \u001b[38;5;124;03m    This takes the following steps:\u001b[39;00m\n\u001b[0;32m   (...)\u001b[0m\n\u001b[1;32m   3476\u001b[0m \u001b[38;5;124;03m        display figures inline.\u001b[39;00m\n\u001b[1;32m   3477\u001b[0m \u001b[38;5;124;03m    \"\"\"\u001b[39;00m\n\u001b[0;32m-> 3478\u001b[0m     \u001b[38;5;28;01mfrom\u001b[39;00m \u001b[38;5;21;01mmatplotlib_inline\u001b[39;00m\u001b[38;5;21;01m.\u001b[39;00m\u001b[38;5;21;01mbackend_inline\u001b[39;00m \u001b[38;5;28;01mimport\u001b[39;00m configure_inline_support\n\u001b[1;32m   3480\u001b[0m     \u001b[38;5;28;01mfrom\u001b[39;00m \u001b[38;5;21;01mIPython\u001b[39;00m\u001b[38;5;21;01m.\u001b[39;00m\u001b[38;5;21;01mcore\u001b[39;00m \u001b[38;5;28;01mimport\u001b[39;00m pylabtools \u001b[38;5;28;01mas\u001b[39;00m pt\n\u001b[1;32m   3481\u001b[0m     gui, backend \u001b[38;5;241m=\u001b[39m pt\u001b[38;5;241m.\u001b[39mfind_gui_and_backend(gui, \u001b[38;5;28mself\u001b[39m\u001b[38;5;241m.\u001b[39mpylab_gui_select)\n",
      "File \u001b[0;32m~/miniconda3/envs/qutip-tutorial-env/lib/python3.10/site-packages/matplotlib_inline/backend_inline.py:6\u001b[0m, in \u001b[0;36m<module>\u001b[0;34m\u001b[0m\n\u001b[1;32m      1\u001b[0m \u001b[38;5;124;03m\"\"\"A matplotlib backend for publishing figures via display_data\"\"\"\u001b[39;00m\n\u001b[1;32m      3\u001b[0m \u001b[38;5;66;03m# Copyright (c) IPython Development Team.\u001b[39;00m\n\u001b[1;32m      4\u001b[0m \u001b[38;5;66;03m# Distributed under the terms of the BSD 3-Clause License.\u001b[39;00m\n\u001b[0;32m----> 6\u001b[0m \u001b[38;5;28;01mimport\u001b[39;00m \u001b[38;5;21;01mmatplotlib\u001b[39;00m\n\u001b[1;32m      7\u001b[0m \u001b[38;5;28;01mfrom\u001b[39;00m \u001b[38;5;21;01mmatplotlib\u001b[39;00m\u001b[38;5;21;01m.\u001b[39;00m\u001b[38;5;21;01mbackends\u001b[39;00m\u001b[38;5;21;01m.\u001b[39;00m\u001b[38;5;21;01mbackend_agg\u001b[39;00m \u001b[38;5;28;01mimport\u001b[39;00m (  \u001b[38;5;66;03m# noqa\u001b[39;00m\n\u001b[1;32m      8\u001b[0m     new_figure_manager,\n\u001b[1;32m      9\u001b[0m     FigureCanvasAgg,\n\u001b[1;32m     10\u001b[0m     new_figure_manager_given_figure,\n\u001b[1;32m     11\u001b[0m )\n\u001b[1;32m     12\u001b[0m \u001b[38;5;28;01mfrom\u001b[39;00m \u001b[38;5;21;01mmatplotlib\u001b[39;00m \u001b[38;5;28;01mimport\u001b[39;00m colors\n",
      "\u001b[0;31mModuleNotFoundError\u001b[0m: No module named 'matplotlib'"
     ]
    }
   ],
   "source": [
    "%matplotlib inline\n",
    "from matplotlib import pyplot as plt"
   ]
  },
  {
   "cell_type": "code",
   "execution_count": null,
   "id": "d08221f0",
   "metadata": {},
   "outputs": [],
   "source": [
    "import numpy as np"
   ]
  },
  {
   "cell_type": "code",
   "execution_count": null,
   "id": "dbc4c92c",
   "metadata": {},
   "outputs": [],
   "source": [
    "import qutip"
   ]
  },
  {
   "cell_type": "markdown",
   "id": "39325722",
   "metadata": {},
   "source": [
    "## Create a quantum gate and display it\n",
    "\n",
    "The cell below creates a Hadamard gate and displays it. The output should contan the line:\n",
    "\n",
    "`Quantum object: dims = [[2], [2]], shape = (2, 2), type = oper, isherm = True`\n",
    "\n",
    "followed by the matrix:\n",
    "\n",
    "$$\n",
    "\\begin{pmatrix}\n",
    "0.707 & 0.707 \\\\\n",
    "0.707 & −0.707\n",
    "\\end{pmatrix}\n",
    "$$"
   ]
  },
  {
   "cell_type": "code",
   "execution_count": null,
   "id": "66e24cbf",
   "metadata": {},
   "outputs": [],
   "source": [
    "H = qutip.qip.operations.hadamard_transform(1)\n",
    "H"
   ]
  },
  {
   "cell_type": "markdown",
   "id": "1691c233",
   "metadata": {},
   "source": [
    "## Plot a Bloch sphere\n",
    "\n",
    "The cell below draws the Bloch sphere, the space of all qubit states, and plots two state vectors on it.\n",
    "\n",
    "The output should show a sphere with the labels $ \\vert 0 \\rangle $ at the north pole, $ \\vert 1 \\rangle $ at the south pole, $ x $ near the equator in the front left, and $ y $ on the equator near the right.\n",
    "\n",
    "There should be a green arrow from the centre of the sphere to the north pole, and a mustard arrow from the centre of the sphere to the south pole."
   ]
  },
  {
   "cell_type": "code",
   "execution_count": null,
   "id": "3b5d1607",
   "metadata": {},
   "outputs": [],
   "source": [
    "bloch = qutip.Bloch()\n",
    "bloch.add_states(qutip.ket(\"0\"))\n",
    "bloch.add_states(qutip.ket(\"1\"))\n",
    "bloch.show()"
   ]
  },
  {
   "cell_type": "markdown",
   "id": "8b38635e",
   "metadata": {},
   "source": [
    "## Solve Schrödinger's Equation\n",
    "\n",
    "In the cells below we solve Schrödinger's equation for a single qubit evolving by rotating around the z-axis of the Bloch sphere.\n",
    "\n",
    "In the first cell there should be no output and no errors. We'll plot the results in the second and third cells."
   ]
  },
  {
   "cell_type": "code",
   "execution_count": null,
   "id": "723c2e5c",
   "metadata": {},
   "outputs": [],
   "source": [
    "H = qutip.sigmaz()\n",
    "psi0 = 2 * qutip.ket(\"0\") + 1j * qutip.ket(\"1\")\n",
    "psi0 = psi0.unit()\n",
    "times = np.linspace(0, np.pi, 100)\n",
    "e_ops = [qutip.ket(\"0\").proj(), qutip.ket(\"1\").proj()]\n",
    "\n",
    "result = qutip.sesolve(H, psi0, times, e_ops=e_ops, options=qutip.Options(store_states=True))"
   ]
  },
  {
   "cell_type": "markdown",
   "id": "2f22394f",
   "metadata": {},
   "source": [
    "In the cell below we plot the probabilities of being in the state $ \\vert 0 \\rangle $ and $ \\vert 1 \\rangle $ over time. Both probabilities are constant, so there should be a horizontal blue line at $ 0.8 $ and a horizontal mustard line at $ 0.2 $."
   ]
  },
  {
   "cell_type": "code",
   "execution_count": null,
   "id": "068ac77c",
   "metadata": {},
   "outputs": [],
   "source": [
    "_, ax = plt.subplots(1, 1)\n",
    "ax.set(xlabel=\"time\", ylabel=\"probability\")\n",
    "ax.plot(times, result.expect[0], label=\"|0>\")\n",
    "ax.plot(times, result.expect[1], label=\"|1>\")\n",
    "None;"
   ]
  },
  {
   "cell_type": "markdown",
   "id": "44183d99",
   "metadata": {},
   "source": [
    "In the cell below we plot the evolution of the states on the Bloch sphere. There should be a cone of upward facing arrows, symmetric around the z-axis, varying in colour from light to dark turquoise."
   ]
  },
  {
   "cell_type": "code",
   "execution_count": null,
   "id": "ea76fb50",
   "metadata": {},
   "outputs": [],
   "source": [
    "bloch = qutip.Bloch()\n",
    "bloch.vector_color = [(0.1, x, x) for x in np.linspace(0, 1, len(times))]\n",
    "bloch.add_states(result.states, alpha=0.5)\n",
    "bloch.show()"
   ]
  },
  {
   "cell_type": "markdown",
   "id": "a2580756",
   "metadata": {},
   "source": [
    "## System Information\n",
    "\n",
    "The cell below prints out information about your QuTiP installation that may be useful when debugging issues if any of the tests above failed.\n",
    "\n",
    "If no errors occurred, you're good to go!"
   ]
  },
  {
   "cell_type": "code",
   "execution_count": null,
   "id": "dfe0be83",
   "metadata": {},
   "outputs": [],
   "source": [
    "qutip.about()"
   ]
  },
  {
   "cell_type": "code",
   "execution_count": null,
   "id": "8ddb8c6e",
   "metadata": {},
   "outputs": [],
   "source": []
  }
 ],
 "metadata": {
  "kernelspec": {
   "display_name": "Python 3 (ipykernel)",
   "language": "python",
   "name": "python3"
  },
  "language_info": {
   "codemirror_mode": {
    "name": "ipython",
    "version": 3
   },
   "file_extension": ".py",
   "mimetype": "text/x-python",
   "name": "python",
   "nbconvert_exporter": "python",
   "pygments_lexer": "ipython3",
   "version": "3.10.5"
  }
 },
 "nbformat": 4,
 "nbformat_minor": 5
}
